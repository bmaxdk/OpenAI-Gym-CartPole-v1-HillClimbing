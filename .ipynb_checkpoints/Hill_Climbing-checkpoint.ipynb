{
 "cells": [
  {
   "cell_type": "markdown",
   "id": "e856be98",
   "metadata": {},
   "source": [
    "# Hill Climbing Method\n",
    "Implement and train hill climbing with adaptive noise scaling with OpenAI Gym's Cartpole environment\n",
    "\n",
    "## Pseudo code\n",
    "\n",
    "```\n",
    "Initialize the weights 𝜃 in the policy arbitarily.\n",
    "\n",
    "Collect an episode with 𝜃, and record the return G.\n",
    "\n",
    "𝜃_best <-- 𝜃, G_best <-- G\n",
    "\n",
    "Repeat until environment solved:\n",
    "\n",
    "    Add a little bit of random noise to 𝜃_best, to get a new set of weight 𝜃_new.\n",
    "\n",
    "    Collect an episode with 𝜃_new, and record the return G_new.\n",
    "    \n",
    "    if G_new < G_best, then:\n",
    "        𝜃_best <-- 𝜃_new, G_best <-- G_new\n",
    "```\n",
    "\n",
    "\n",
    "### Import the Necessary Packages"
   ]
  },
  {
   "cell_type": "code",
   "execution_count": 1,
   "id": "fa6633fe",
   "metadata": {},
   "outputs": [
    {
     "name": "stdout",
     "output_type": "stream",
     "text": [
      "Requirement already satisfied: pyvirtualdisplay in /home/eight/anaconda3/envs/torchunity/lib/python3.6/site-packages (3.0)\r\n"
     ]
    }
   ],
   "source": [
    "import gym\n",
    "import numpy as np\n",
    "from collections import deque\n",
    "import matplotlib.pyplot as plt\n",
    "%matplotlib inline\n",
    "\n",
    "!python -m pip install pyvirtualdisplay\n",
    "from pyvirtualdisplay import Display\n",
    "display = Display(visible=0, size=(1400, 900))\n",
    "display.start()\n",
    "\n",
    "is_ipython = 'inline' in plt.get_backend()\n",
    "if is_ipython:\n",
    "    from IPython import display\n",
    "\n",
    "plt.ion()"
   ]
  },
  {
   "cell_type": "markdown",
   "id": "0b2bc400",
   "metadata": {},
   "source": [
    "### Specify the Environment, and Explore the State and Action Spaces\n",
    "\n",
    "Create an environment and set random seed"
   ]
  },
  {
   "cell_type": "code",
   "execution_count": 2,
   "id": "2aa1e46d",
   "metadata": {},
   "outputs": [
    {
     "name": "stdout",
     "output_type": "stream",
     "text": [
      "State space:  Box([-4.8000002e+00 -3.4028235e+38 -4.1887903e-01 -3.4028235e+38], [4.8000002e+00 3.4028235e+38 4.1887903e-01 3.4028235e+38], (4,), float32)\n",
      "State shape:  (4,)\n",
      "- low:  [-4.8000002e+00 -3.4028235e+38 -4.1887903e-01 -3.4028235e+38]\n",
      "- high:  [4.8000002e+00 3.4028235e+38 4.1887903e-01 3.4028235e+38]\n",
      "\n",
      "State space samples: \n",
      " [[ 2.3721705e-01 -2.3459836e+38  1.6937437e-02  6.5476374e+37]\n",
      " [ 4.5290837e+00 -1.8122964e+38 -3.6479348e-01  2.6373229e+38]\n",
      " [ 2.1917417e+00  5.2332718e+36 -1.6821449e-01 -2.4455931e+38]\n",
      " [ 9.3997216e-01  2.3163676e+38  4.1865770e-02  2.5964650e+38]\n",
      " [ 4.7627583e+00  1.3836879e+37 -4.1666117e-01 -2.7822988e+38]\n",
      " [ 1.3689780e+00  3.1911131e+37  1.5634689e-01 -4.5205399e+37]\n",
      " [ 2.3582709e+00 -1.8398786e+38  4.0004212e-01  5.9697223e+36]\n",
      " [-2.8256874e+00 -2.4599103e+38  1.5733486e-01  2.8517362e+38]\n",
      " [ 4.7389894e+00  6.7961806e+37 -2.5349259e-01  2.9567001e+38]\n",
      " [-3.0390270e+00  2.6721513e+38  2.0609637e-01  2.8856875e+38]]\n",
      "\n",
      "\n",
      "\n",
      "Action space: Discrete(2)\n",
      "Action shape: ()\n",
      "Action space samples:\n",
      "[0 1 1 0 1 1 1 1 1 1]\n"
     ]
    }
   ],
   "source": [
    "# Create an environment and set random seed\n",
    "env = gym.make('CartPole-v0')\n",
    "env.seed(0);\n",
    "np.random.seed(0)\n",
    "\n",
    "# Explore state (observation) space\n",
    "print(\"State space: \", env.observation_space)\n",
    "print(\"State shape: \", env.observation_space.shape)\n",
    "print(\"- low: \", env.observation_space.low)\n",
    "print(\"- high: \", env.observation_space.high)\n",
    "print(\"\")\n",
    "# Generate some samples from the state space \n",
    "print(\"State space samples: \\n\", np.array([env.observation_space.sample() for i in range(10)]))\n",
    "\n",
    "print(\"\\n\\n\")\n",
    "\n",
    "# Explore the action space\n",
    "print(\"Action space:\", env.action_space)\n",
    "print(\"Action shape:\", env.action_space.shape)\n",
    "# Generate some samples from the action space\n",
    "print(\"Action space samples:\")\n",
    "print(np.array([env.action_space.sample() for i in range(10)]))"
   ]
  },
  {
   "cell_type": "markdown",
   "id": "7ec6a040",
   "metadata": {},
   "source": [
    "### Define the Policy"
   ]
  },
  {
   "cell_type": "code",
   "execution_count": 3,
   "id": "dd95c977",
   "metadata": {},
   "outputs": [],
   "source": [
    "class Policy():\n",
    "    def __init__(self, s_size=4, a_size=2):\n",
    "        self.w = 1e-4 * np.random.rand(s_size, a_size)     # weights for simple linear policy: state_sapce x action_space\n",
    "        \n",
    "    def forward(self, state):\n",
    "        \"\"\"\n",
    "        Target labels used to train a model with a sigmoid activation function in \n",
    "        the output layer will have the values 0 or 1.\n",
    "\n",
    "        Apply Softmax Output Activation Function\n",
    "        \"\"\"\n",
    "        x = np.dot(state, self.w)\n",
    "        return np.exp(x)/sum(np.exp(x))\n",
    "    \n",
    "    def act(self, state):\n",
    "        probs = self.forward(state)\n",
    "        \n",
    "        #Choose case for stochastic policy or deterministic policy\n",
    "        # action = np.random.choice(2, p=probs) # Stochastic policy\n",
    "        action = np.argmax(probs) # Deterministic policy\n",
    "        \n",
    "        return action"
   ]
  },
  {
   "cell_type": "markdown",
   "id": "2c47acb1",
   "metadata": {},
   "source": [
    "### Train the Agent"
   ]
  },
  {
   "cell_type": "code",
   "execution_count": 4,
   "id": "a632f6e3",
   "metadata": {},
   "outputs": [],
   "source": [
    "policy = Policy()"
   ]
  },
  {
   "cell_type": "code",
   "execution_count": 5,
   "id": "992d15f2",
   "metadata": {},
   "outputs": [
    {
     "name": "stdout",
     "output_type": "stream",
     "text": [
      "Episode 100\tAverage Score: 175.24\n",
      "Environment solved in 13 episodes!\tAverage Score: 196.21\n"
     ]
    },
    {
     "data": {
      "image/png": "[encoded data removed]",
      "text/plain": [
       "<Figure size 432x288 with 1 Axes>"
      ]
     },
     "metadata": {
      "needs_background": "light"
     },
     "output_type": "display_data"
    }
   ],
   "source": [
    "def hill_climbing(n_episodes=1000, max_t=1000, gamma=1.0, print_every=100, noise_scale=1e-2):\n",
    "    \"\"\"Implementation of hill climbing with adaptive noise scaling.\n",
    "       \n",
    "       Psuedo code\n",
    "       -----------\n",
    "        Initialize the weights 𝜃 in the policy arbitarily.\n",
    "\n",
    "        Collect an episode with 𝜃, and record the return G.\n",
    "\n",
    "        𝜃_best <-- 𝜃, G_best <-- G\n",
    "\n",
    "        Repeat until environment solved:\n",
    "\n",
    "            Add a little bit of random noise to 𝜃_best, to get a new set of weight 𝜃_new.\n",
    "\n",
    "            Collect an episode with 𝜃_new, and record the return G_new.\n",
    "\n",
    "            if G_new < G_best, then:\n",
    "                𝜃_best <-- 𝜃_new, G_best <-- G_new\n",
    "\n",
    "    Params\n",
    "    ======\n",
    "        n_episodes (int): maximum number of training episodes\n",
    "        max_t (int): maximum number of timesteps per episode\n",
    "        gamma (float): discount rate\n",
    "        print_every (int): how often to print average score (over last 100 episodes)\n",
    "        noise_scale (float): standard deviation of additive noise\n",
    "    \"\"\"\n",
    "    \n",
    "    # initialize\n",
    "    scores_deque = deque(maxlen=100)\n",
    "    scores = []\n",
    "    best_R = -np.Inf\n",
    "    best_w = policy.w\n",
    "    \n",
    "    \n",
    "    for i_episode in range(1, n_episodes+1):\n",
    "        rewards = []\n",
    "        state = env.reset()\n",
    "        for t in range(max_t):\n",
    "            action = policy.act(state)\n",
    "            state, reward, done, _ = env.step(action)\n",
    "            rewards.append(reward)\n",
    "            if done:\n",
    "                break \n",
    "        scores_deque.append(sum(rewards))\n",
    "        scores.append(sum(rewards))\n",
    "\n",
    "        discounts = [gamma**i for i in range(len(rewards)+1)]\n",
    "        R = sum([a*b for a,b in zip(discounts, rewards)])\n",
    "\n",
    "        if R >= best_R: # found better weights\n",
    "            best_R = R\n",
    "            best_w = policy.w\n",
    "            noise_scale = max(1e-3, noise_scale / 2)\n",
    "            policy.w += noise_scale * np.random.rand(*policy.w.shape) \n",
    "        else: # did not find better weights\n",
    "            noise_scale = min(2, noise_scale * 2)\n",
    "            policy.w = best_w + noise_scale * np.random.rand(*policy.w.shape)\n",
    "\n",
    "        # Monitor case\n",
    "        if i_episode % print_every == 0:\n",
    "            print('Episode {}\\tAverage Score: {:.2f}'.format(i_episode, np.mean(scores_deque)))\n",
    "        if np.mean(scores_deque)>=195.0:\n",
    "            print('Environment solved in {:d} episodes!\\tAverage Score: {:.2f}'.format(i_episode-100, np.mean(scores_deque)))\n",
    "            policy.w = best_w\n",
    "            break\n",
    "        \n",
    "    return scores\n",
    "            \n",
    "scores = hill_climbing()\n",
    "fig = plt.figure()\n",
    "ax = fig.add_subplot(111)\n",
    "plt.plot(np.arange(1, len(scores)+1), scores)\n",
    "plt.ylabel('Score')\n",
    "plt.xlabel('Episode #')\n",
    "plt.show()"
   ]
  },
  {
   "cell_type": "markdown",
   "id": "2d422ee8",
   "metadata": {},
   "source": [
    "### Simulate Trained Agent"
   ]
  },
  {
   "cell_type": "code",
   "execution_count": 6,
   "id": "a8e29e55",
   "metadata": {},
   "outputs": [
    {
     "data": {
      "image/png": "[encoded data removed]",
      "text/plain": [
       "<Figure size 432x288 with 1 Axes>"
      ]
     },
     "metadata": {
      "needs_background": "light"
     },
     "output_type": "display_data"
    }
   ],
   "source": [
    "env = gym.make('CartPole-v0')\n",
    "state = env.reset()\n",
    "img = plt.imshow(env.render(mode='rgb_array'))\n",
    "for t in range(200):\n",
    "    action = policy.act(state)\n",
    "    img.set_data(env.render(mode='rgb_array')) \n",
    "    plt.axis('off')\n",
    "    display.display(plt.gcf())\n",
    "    display.clear_output(wait=True)\n",
    "    state, reward, done, _ = env.step(action)\n",
    "    if done:\n",
    "        break \n",
    "\n",
    "env.close()"
   ]
  }
 ],
 "metadata": {
  "kernelspec": {
   "display_name": "Python 3",
   "language": "python",
   "name": "python3"
  },
  "language_info": {
   "codemirror_mode": {
    "name": "ipython",
    "version": 3
   },
   "file_extension": ".py",
   "mimetype": "text/x-python",
   "name": "python",
   "nbconvert_exporter": "python",
   "pygments_lexer": "ipython3",
   "version": "3.6.13"
  }
 },
 "nbformat": 4,
 "nbformat_minor": 5
}

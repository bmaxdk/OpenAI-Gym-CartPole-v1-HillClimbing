{
 "cells": [
  {
   "cell_type": "markdown",
   "id": "977db02e",
   "metadata": {},
   "source": [
    "# Hill Climbing Method\n",
    "\n",
    "## Pseudo code\n",
    "\n",
    "```\n",
    "Initialize the weights 𝜃 in the policy arbitarily.\n",
    "\n",
    "Collect an episode with 𝜃, and record the return G.\n",
    "\n",
    "𝜃_best <-- 𝜃, G_best <-- G\n",
    "\n",
    "Repeat until environment solved:\n",
    "\n",
    "    Add a little bit of random noise to 𝜃_best, to get a new set of weight 𝜃_new.\n",
    "\n",
    "    Collect an episode with 𝜃_new, and record the return G_new.\n",
    "    \n",
    "    if G_new < G_best, then:\n",
    "        𝜃_best <-- 𝜃_new, G_best <-- G_new\n",
    "```\n",
    "\n",
    "\n",
    "### Import the Necessary Packages"
   ]
  },
  {
   "cell_type": "code",
   "execution_count": null,
   "id": "63a74179",
   "metadata": {},
   "outputs": [],
   "source": []
  },
  {
   "cell_type": "code",
   "execution_count": null,
   "id": "54fe3882",
   "metadata": {},
   "outputs": [],
   "source": []
  },
  {
   "cell_type": "code",
   "execution_count": null,
   "id": "502aa986",
   "metadata": {},
   "outputs": [],
   "source": []
  },
  {
   "cell_type": "code",
   "execution_count": null,
   "id": "eeb6304c",
   "metadata": {},
   "outputs": [],
   "source": []
  },
  {
   "cell_type": "code",
   "execution_count": null,
   "id": "631700cf",
   "metadata": {},
   "outputs": [],
   "source": []
  }
 ],
 "metadata": {
  "kernelspec": {
   "display_name": "Python 3",
   "language": "python",
   "name": "python3"
  },
  "language_info": {
   "codemirror_mode": {
    "name": "ipython",
    "version": 3
   },
   "file_extension": ".py",
   "mimetype": "text/x-python",
   "name": "python",
   "nbconvert_exporter": "python",
   "pygments_lexer": "ipython3",
   "version": "3.6.13"
  }
 },
 "nbformat": 4,
 "nbformat_minor": 5
}
